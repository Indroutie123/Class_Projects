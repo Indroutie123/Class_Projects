{
  "nbformat": 4,
  "nbformat_minor": 0,
  "metadata": {
    "colab": {
      "provenance": [],
      "authorship_tag": "ABX9TyOB2ibDFdPtErRrsPZoMxJn",
      "include_colab_link": true
    },
    "kernelspec": {
      "name": "python3",
      "display_name": "Python 3"
    },
    "language_info": {
      "name": "python"
    }
  },
  "cells": [
    {
      "cell_type": "markdown",
      "metadata": {
        "id": "view-in-github",
        "colab_type": "text"
      },
      "source": [
        "<a href=\"https://colab.research.google.com/github/Indroutie123/Class_Projects/blob/main/class_project_2.ipynb\" target=\"_parent\"><img src=\"https://colab.research.google.com/assets/colab-badge.svg\" alt=\"Open In Colab\"/></a>"
      ]
    },
    {
      "cell_type": "markdown",
      "source": [
        "(https://colab.research.google.com/drive/1eCblKOiWqGmOYZMTxudzMzQCG--agux2#scrollTo=xrsI1VNxGrEq&line=1&uniqifier=1)"
      ],
      "metadata": {
        "id": "NOqhdgypIkhf"
      }
    },
    {
      "cell_type": "code",
      "source": [],
      "metadata": {
        "id": "IRzZz1l4JDFb"
      },
      "execution_count": null,
      "outputs": []
    },
    {
      "cell_type": "code",
      "source": [
        "# prompt: \"https://raw.githubusercontent.com/niteen11/DataAnalyticsAcademy/master/Python/dataset_diabetes/diabetic_data.csv\"\n",
        "\n",
        "import pandas as pd\n",
        "import matplotlib.pyplot as plt\n",
        "\n",
        "# Load the CSV file from the provided URL\n",
        "url = \"https://raw.githubusercontent.com/niteen11/DataAnalyticsAcademy/master/Python/dataset_diabetes/diabetic_data.csv\"\n",
        "df = pd.read_csv(url)\n",
        "\n",
        "# Display some initial rows to understand the data structure\n",
        "print(df.head())\n"
      ],
      "metadata": {
        "id": "eQmU1lNLJUh_",
        "colab": {
          "base_uri": "https://localhost:8080/"
        },
        "outputId": "ae768821-5f28-4532-b673-ed429827b0ee"
      },
      "execution_count": 94,
      "outputs": [
        {
          "output_type": "stream",
          "name": "stdout",
          "text": [
            "   encounter_id  patient_nbr             race  gender      age weight  \\\n",
            "0       2278392      8222157        Caucasian  Female   [0-10)      ?   \n",
            "1        149190     55629189        Caucasian  Female  [10-20)      ?   \n",
            "2         64410     86047875  AfricanAmerican  Female  [20-30)      ?   \n",
            "3        500364     82442376        Caucasian    Male  [30-40)      ?   \n",
            "4         16680     42519267        Caucasian    Male  [40-50)      ?   \n",
            "\n",
            "   admission_type_id  discharge_disposition_id  admission_source_id  \\\n",
            "0                  6                        25                    1   \n",
            "1                  1                         1                    7   \n",
            "2                  1                         1                    7   \n",
            "3                  1                         1                    7   \n",
            "4                  1                         1                    7   \n",
            "\n",
            "   time_in_hospital  ... citoglipton insulin  glyburide-metformin  \\\n",
            "0                 1  ...          No      No                   No   \n",
            "1                 3  ...          No      Up                   No   \n",
            "2                 2  ...          No      No                   No   \n",
            "3                 2  ...          No      Up                   No   \n",
            "4                 1  ...          No  Steady                   No   \n",
            "\n",
            "   glipizide-metformin  glimepiride-pioglitazone  metformin-rosiglitazone  \\\n",
            "0                   No                        No                       No   \n",
            "1                   No                        No                       No   \n",
            "2                   No                        No                       No   \n",
            "3                   No                        No                       No   \n",
            "4                   No                        No                       No   \n",
            "\n",
            "   metformin-pioglitazone  change diabetesMed readmitted  \n",
            "0                      No      No          No         NO  \n",
            "1                      No      Ch         Yes        >30  \n",
            "2                      No      No         Yes         NO  \n",
            "3                      No      Ch         Yes         NO  \n",
            "4                      No      Ch         Yes         NO  \n",
            "\n",
            "[5 rows x 50 columns]\n"
          ]
        }
      ]
    },
    {
      "cell_type": "code",
      "source": [
        "# indicating the gender of individuals.\n",
        "male_group = df[df['gender'] == 'Male']\n",
        "male_group_stats = male_group.describe()\n",
        "print(male_group_stats)"
      ],
      "metadata": {
        "colab": {
          "base_uri": "https://localhost:8080/"
        },
        "id": "PlN__G6EMTFb",
        "outputId": "806385f8-6964-45d7-8521-3f41fed9350a"
      },
      "execution_count": null,
      "outputs": [
        {
          "output_type": "stream",
          "name": "stdout",
          "text": [
            "       encounter_id   patient_nbr  admission_type_id  \\\n",
            "count  4.705500e+04  4.705500e+04       47055.000000   \n",
            "mean   1.658648e+08  5.460650e+07           2.046796   \n",
            "std    1.033094e+08  3.882671e+07           1.454550   \n",
            "min    1.668000e+04  1.629000e+03           1.000000   \n",
            "25%    8.437063e+07  2.345622e+07           1.000000   \n",
            "50%    1.528869e+08  4.522258e+07           1.000000   \n",
            "75%    2.318417e+08  8.774224e+07           3.000000   \n",
            "max    4.438672e+08  1.895026e+08           8.000000   \n",
            "\n",
            "       discharge_disposition_id  admission_source_id  time_in_hospital  \\\n",
            "count              47055.000000         47055.000000      47055.000000   \n",
            "mean                   3.596387             5.737690          4.299777   \n",
            "std                    5.238922             4.116878          2.987703   \n",
            "min                    1.000000             1.000000          1.000000   \n",
            "25%                    1.000000             1.000000          2.000000   \n",
            "50%                    1.000000             7.000000          3.000000   \n",
            "75%                    3.000000             7.000000          6.000000   \n",
            "max                   28.000000            22.000000         14.000000   \n",
            "\n",
            "       num_lab_procedures  num_procedures  num_medications  number_outpatient  \\\n",
            "count        47055.000000    47055.000000     47055.000000       47055.000000   \n",
            "mean            43.030964        1.449899        15.828775           0.353714   \n",
            "std             19.600972        1.791613         8.409145           1.231802   \n",
            "min              1.000000        0.000000         1.000000           0.000000   \n",
            "25%             32.000000        0.000000        10.000000           0.000000   \n",
            "50%             44.000000        1.000000        14.000000           0.000000   \n",
            "75%             56.000000        2.000000        20.000000           0.000000   \n",
            "max            132.000000        6.000000        81.000000          42.000000   \n",
            "\n",
            "       number_emergency  number_inpatient  number_diagnoses  \n",
            "count      47055.000000      47055.000000      47055.000000  \n",
            "mean           0.176708          0.615705          7.415684  \n",
            "std            0.776532          1.220893          1.945255  \n",
            "min            0.000000          0.000000          1.000000  \n",
            "25%            0.000000          0.000000          6.000000  \n",
            "50%            0.000000          0.000000          8.000000  \n",
            "75%            0.000000          1.000000          9.000000  \n",
            "max           37.000000         19.000000         16.000000  \n"
          ]
        }
      ]
    },
    {
      "cell_type": "code",
      "source": [
        "malegroup = df[df['gender'] == 'Male']"
      ],
      "metadata": {
        "id": "54-jE5faKU9x"
      },
      "execution_count": null,
      "outputs": []
    },
    {
      "cell_type": "code",
      "source": [
        "maleinpatientvisits = malegroup['number_inpatient']"
      ],
      "metadata": {
        "id": "L9Zvg6MlLvrr"
      },
      "execution_count": null,
      "outputs": []
    },
    {
      "cell_type": "code",
      "source": [
        "print(\"\\nDescriptive statistics for Male group (Number of inpatient visits):\")"
      ],
      "metadata": {
        "colab": {
          "base_uri": "https://localhost:8080/"
        },
        "id": "ckR6vxRDL0n2",
        "outputId": "17b8ebbf-2978-4950-a8c7-d4c374ccf5c2"
      },
      "execution_count": null,
      "outputs": [
        {
          "output_type": "stream",
          "name": "stdout",
          "text": [
            "\n",
            "Descriptive statistics for Male group (Number of inpatient visits):\n"
          ]
        }
      ]
    },
    {
      "cell_type": "code",
      "source": [
        "print(maleinpatientvisits.describe())"
      ],
      "metadata": {
        "colab": {
          "base_uri": "https://localhost:8080/"
        },
        "id": "-sgef6nRL4yj",
        "outputId": "06dfdec9-b740-4b18-bdbc-b58c830e81c7"
      },
      "execution_count": null,
      "outputs": [
        {
          "output_type": "stream",
          "name": "stdout",
          "text": [
            "count    47055.000000\n",
            "mean         0.615705\n",
            "std          1.220893\n",
            "min          0.000000\n",
            "25%          0.000000\n",
            "50%          0.000000\n",
            "75%          1.000000\n",
            "max         19.000000\n",
            "Name: number_inpatient, dtype: float64\n"
          ]
        }
      ]
    },
    {
      "cell_type": "code",
      "source": [
        "# indicating the gender of individuals in your dataset.\n",
        "female_group = df[df['gender'] == 'Female']\n",
        "female_group_stats = female_group.describe()\n",
        "print(female_group_stats)"
      ],
      "metadata": {
        "colab": {
          "base_uri": "https://localhost:8080/"
        },
        "id": "rAj1MlTvMABw",
        "outputId": "dcde9acf-4739-40ef-ba31-0fe648ed6a2c"
      },
      "execution_count": null,
      "outputs": [
        {
          "output_type": "stream",
          "name": "stdout",
          "text": [
            "       encounter_id   patient_nbr  admission_type_id  \\\n",
            "count  5.470800e+04  5.470800e+04       54708.000000   \n",
            "mean   1.646297e+08  5.409153e+07           2.004423   \n",
            "std    1.020601e+08  3.858307e+07           1.437233   \n",
            "min    1.252200e+04  1.350000e+02           1.000000   \n",
            "25%    8.550109e+07  2.338585e+07           1.000000   \n",
            "50%    1.518824e+08  4.578898e+07           1.000000   \n",
            "75%    2.288644e+08  8.736580e+07           3.000000   \n",
            "max    4.438572e+08  1.894815e+08           8.000000   \n",
            "\n",
            "       discharge_disposition_id  admission_source_id  time_in_hospital  \\\n",
            "count              54708.000000         54708.000000      54708.000000   \n",
            "mean                   3.817979             5.768882          4.478797   \n",
            "std                    5.312838             4.018151          2.980388   \n",
            "min                    1.000000             1.000000          1.000000   \n",
            "25%                    1.000000             1.000000          2.000000   \n",
            "50%                    1.000000             7.000000          4.000000   \n",
            "75%                    4.000000             7.000000          6.000000   \n",
            "max                   28.000000            25.000000         14.000000   \n",
            "\n",
            "       num_lab_procedures  num_procedures  num_medications  number_outpatient  \\\n",
            "count        54708.000000      54708.0000     54708.000000       54708.000000   \n",
            "mean            43.151769          1.2449        16.187888           0.382832   \n",
            "std             19.737012          1.6224         7.873664           1.296883   \n",
            "min              1.000000          0.0000         1.000000           0.000000   \n",
            "25%             31.000000          0.0000        11.000000           0.000000   \n",
            "50%             44.000000          1.0000        15.000000           0.000000   \n",
            "75%             57.000000          2.0000        20.000000           0.000000   \n",
            "max            129.000000          6.0000        75.000000          40.000000   \n",
            "\n",
            "       number_emergency  number_inpatient  number_diagnoses  \n",
            "count      54708.000000      54708.000000      54708.000000  \n",
            "mean           0.216020          0.652683          7.428639  \n",
            "std            1.044577          1.297669          1.923474  \n",
            "min            0.000000          0.000000          1.000000  \n",
            "25%            0.000000          0.000000          6.000000  \n",
            "50%            0.000000          0.000000          8.000000  \n",
            "75%            0.000000          1.000000          9.000000  \n",
            "max           76.000000         21.000000         16.000000  \n"
          ]
        }
      ]
    },
    {
      "cell_type": "code",
      "source": [
        "female_group = df[df['gender'] == 'Female']"
      ],
      "metadata": {
        "id": "tj2g7mpXMx7B"
      },
      "execution_count": null,
      "outputs": []
    },
    {
      "cell_type": "code",
      "source": [
        "female_group_stats = female_group.describe()"
      ],
      "metadata": {
        "id": "DLLbnZ1PM17E"
      },
      "execution_count": null,
      "outputs": []
    },
    {
      "cell_type": "code",
      "source": [
        "print(female_group_stats)"
      ],
      "metadata": {
        "colab": {
          "base_uri": "https://localhost:8080/"
        },
        "id": "mSLHF7UhM94Y",
        "outputId": "7b95916e-54a5-4034-bc94-7e2f08bec75f"
      },
      "execution_count": null,
      "outputs": [
        {
          "output_type": "stream",
          "name": "stdout",
          "text": [
            "       encounter_id   patient_nbr  admission_type_id  \\\n",
            "count  5.470800e+04  5.470800e+04       54708.000000   \n",
            "mean   1.646297e+08  5.409153e+07           2.004423   \n",
            "std    1.020601e+08  3.858307e+07           1.437233   \n",
            "min    1.252200e+04  1.350000e+02           1.000000   \n",
            "25%    8.550109e+07  2.338585e+07           1.000000   \n",
            "50%    1.518824e+08  4.578898e+07           1.000000   \n",
            "75%    2.288644e+08  8.736580e+07           3.000000   \n",
            "max    4.438572e+08  1.894815e+08           8.000000   \n",
            "\n",
            "       discharge_disposition_id  admission_source_id  time_in_hospital  \\\n",
            "count              54708.000000         54708.000000      54708.000000   \n",
            "mean                   3.817979             5.768882          4.478797   \n",
            "std                    5.312838             4.018151          2.980388   \n",
            "min                    1.000000             1.000000          1.000000   \n",
            "25%                    1.000000             1.000000          2.000000   \n",
            "50%                    1.000000             7.000000          4.000000   \n",
            "75%                    4.000000             7.000000          6.000000   \n",
            "max                   28.000000            25.000000         14.000000   \n",
            "\n",
            "       num_lab_procedures  num_procedures  num_medications  number_outpatient  \\\n",
            "count        54708.000000      54708.0000     54708.000000       54708.000000   \n",
            "mean            43.151769          1.2449        16.187888           0.382832   \n",
            "std             19.737012          1.6224         7.873664           1.296883   \n",
            "min              1.000000          0.0000         1.000000           0.000000   \n",
            "25%             31.000000          0.0000        11.000000           0.000000   \n",
            "50%             44.000000          1.0000        15.000000           0.000000   \n",
            "75%             57.000000          2.0000        20.000000           0.000000   \n",
            "max            129.000000          6.0000        75.000000          40.000000   \n",
            "\n",
            "       number_emergency  number_inpatient  number_diagnoses  \n",
            "count      54708.000000      54708.000000      54708.000000  \n",
            "mean           0.216020          0.652683          7.428639  \n",
            "std            1.044577          1.297669          1.923474  \n",
            "min            0.000000          0.000000          1.000000  \n",
            "25%            0.000000          0.000000          6.000000  \n",
            "50%            0.000000          0.000000          8.000000  \n",
            "75%            0.000000          1.000000          9.000000  \n",
            "max           76.000000         21.000000         16.000000  \n"
          ]
        }
      ]
    },
    {
      "cell_type": "code",
      "source": [
        "import seaborn as sns"
      ],
      "metadata": {
        "id": "fMRC5WZ4N13o"
      },
      "execution_count": null,
      "outputs": []
    },
    {
      "cell_type": "code",
      "source": [
        "import pandas as pd"
      ],
      "metadata": {
        "id": "Ta_fJN8ON5GT"
      },
      "execution_count": null,
      "outputs": []
    },
    {
      "cell_type": "code",
      "source": [
        "import matplotlib.pyplot as plt"
      ],
      "metadata": {
        "id": "c4sJQP_kN7kV"
      },
      "execution_count": null,
      "outputs": []
    },
    {
      "cell_type": "code",
      "source": [
        "plt.figure(figsize=(10, 6))"
      ],
      "metadata": {
        "colab": {
          "base_uri": "https://localhost:8080/",
          "height": 52
        },
        "id": "Xa8i4gAsNgVo",
        "outputId": "a44e1952-e0e0-49ea-c1b6-eb5a41902afe"
      },
      "execution_count": null,
      "outputs": [
        {
          "output_type": "execute_result",
          "data": {
            "text/plain": [
              "<Figure size 1000x600 with 0 Axes>"
            ]
          },
          "metadata": {},
          "execution_count": 49
        },
        {
          "output_type": "display_data",
          "data": {
            "text/plain": [
              "<Figure size 1000x600 with 0 Axes>"
            ]
          },
          "metadata": {}
        }
      ]
    },
    {
      "cell_type": "code",
      "source": [
        "sns.histplot(maleinpatientvisits, color='blue', label='Male', kde=True, bins=30, alpha=0.6)"
      ],
      "metadata": {
        "colab": {
          "base_uri": "https://localhost:8080/",
          "height": 467
        },
        "id": "9R95uQh0ODlf",
        "outputId": "e43a818e-9e60-4f27-b29c-b71842b594ce"
      },
      "execution_count": null,
      "outputs": [
        {
          "output_type": "execute_result",
          "data": {
            "text/plain": [
              "<Axes: xlabel='number_inpatient', ylabel='Count'>"
            ]
          },
          "metadata": {},
          "execution_count": 58
        },
        {
          "output_type": "display_data",
          "data": {
            "text/plain": [
              "<Figure size 640x480 with 1 Axes>"
            ],
            "image/png": "[encoded data removed]"
          },
          "metadata": {}
        }
      ]
    },
    {
      "cell_type": "code",
      "source": [
        "plt.title('Distribution of Number of Inpatient Visits by Gender')"
      ],
      "metadata": {
        "colab": {
          "base_uri": "https://localhost:8080/",
          "height": 469
        },
        "id": "WcJWvW-tOft5",
        "outputId": "6dddeec0-8653-4c26-f570-abfe085e5a4a"
      },
      "execution_count": null,
      "outputs": [
        {
          "output_type": "execute_result",
          "data": {
            "text/plain": [
              "Text(0.5, 1.0, 'Distribution of Number of Inpatient Visits by Gender')"
            ]
          },
          "metadata": {},
          "execution_count": 62
        },
        {
          "output_type": "display_data",
          "data": {
            "text/plain": [
              "<Figure size 640x480 with 1 Axes>"
            ],
            "image/png": "[encoded data removed]"
          },
          "metadata": {}
        }
      ]
    },
    {
      "cell_type": "code",
      "source": [
        "plt.xlabel('Number of Inpatient Visits')"
      ],
      "metadata": {
        "colab": {
          "base_uri": "https://localhost:8080/",
          "height": 472
        },
        "id": "xPCrqTFvOigQ",
        "outputId": "40f4c0ac-eefb-48fe-d251-14322b466177"
      },
      "execution_count": null,
      "outputs": [
        {
          "output_type": "execute_result",
          "data": {
            "text/plain": [
              "Text(0.5, 0, 'Number of Inpatient Visits')"
            ]
          },
          "metadata": {},
          "execution_count": 63
        },
        {
          "output_type": "display_data",
          "data": {
            "text/plain": [
              "<Figure size 640x480 with 1 Axes>"
            ],
            "image/png": "[encoded data removed]"
          },
          "metadata": {}
        }
      ]
    },
    {
      "cell_type": "code",
      "source": [
        "plt.ylabel('Frequency')"
      ],
      "metadata": {
        "colab": {
          "base_uri": "https://localhost:8080/",
          "height": 452
        },
        "id": "iGYzPPdhOlmt",
        "outputId": "a0717c73-5fcd-40a1-80d1-f105643ad64c"
      },
      "execution_count": null,
      "outputs": [
        {
          "output_type": "execute_result",
          "data": {
            "text/plain": [
              "Text(0, 0.5, 'Frequency')"
            ]
          },
          "metadata": {},
          "execution_count": 64
        },
        {
          "output_type": "display_data",
          "data": {
            "text/plain": [
              "<Figure size 640x480 with 1 Axes>"
            ],
            "image/png": "[encoded data removed]"
          },
          "metadata": {}
        }
      ]
    },
    {
      "cell_type": "code",
      "source": [
        "plt.legend()"
      ],
      "metadata": {
        "colab": {
          "base_uri": "https://localhost:8080/",
          "height": 487
        },
        "id": "CCzWmNEdOn_8",
        "outputId": "2d8b8a73-16ab-48f7-f698-eae520730fad"
      },
      "execution_count": null,
      "outputs": [
        {
          "output_type": "stream",
          "name": "stderr",
          "text": [
            "<ipython-input-65-a140b03f3a4c>:1: UserWarning: No artists with labels found to put in legend.  Note that artists whose label start with an underscore are ignored when legend() is called with no argument.\n",
            "  plt.legend()\n"
          ]
        },
        {
          "output_type": "execute_result",
          "data": {
            "text/plain": [
              "<matplotlib.legend.Legend at 0x7ecde7e78050>"
            ]
          },
          "metadata": {},
          "execution_count": 65
        },
        {
          "output_type": "display_data",
          "data": {
            "text/plain": [
              "<Figure size 640x480 with 1 Axes>"
            ],
            "image/png": "[encoded data removed]"
          },
          "metadata": {}
        }
      ]
    },
    {
      "cell_type": "code",
      "source": [
        "plt.show()"
      ],
      "metadata": {
        "id": "i7S0vjppOqSZ"
      },
      "execution_count": null,
      "outputs": []
    },
    {
      "cell_type": "code",
      "source": [
        "print(\"\\nConclusion:\")"
      ],
      "metadata": {
        "colab": {
          "base_uri": "https://localhost:8080/"
        },
        "id": "Tj7xJw1UOtfp",
        "outputId": "aba62ec4-c3bd-40f0-892e-56430e153885"
      },
      "execution_count": null,
      "outputs": [
        {
          "output_type": "stream",
          "name": "stdout",
          "text": [
            "\n",
            "Conclusion:\n"
          ]
        }
      ]
    },
    {
      "cell_type": "code",
      "source": [
        "print(\"From the analysis, we observe the distribution of inpatient visits for Male and Female groups.\")"
      ],
      "metadata": {
        "colab": {
          "base_uri": "https://localhost:8080/"
        },
        "id": "rkeWfLzUOxi0",
        "outputId": "256854c1-3ff9-4f93-914e-585f3e59f808"
      },
      "execution_count": null,
      "outputs": [
        {
          "output_type": "stream",
          "name": "stdout",
          "text": [
            "From the analysis, we observe the distribution of inpatient visits for Male and Female groups.\n"
          ]
        }
      ]
    },
    {
      "cell_type": "code",
      "source": [
        "print(\"The descriptive statistics and visualization provide insights into the differences in inpatient visits between genders.\")"
      ],
      "metadata": {
        "colab": {
          "base_uri": "https://localhost:8080/"
        },
        "id": "GESn5uunO1Kj",
        "outputId": "c3174829-ddeb-4a3f-eba1-6b31d8e30fca"
      },
      "execution_count": null,
      "outputs": [
        {
          "output_type": "stream",
          "name": "stdout",
          "text": [
            "The descriptive statistics and visualization provide insights into the differences in inpatient visits between genders.\n"
          ]
        }
      ]
    },
    {
      "cell_type": "code",
      "source": [
        "print(\"Further analysis could explore other features or perform hypothesis testing to determine statistical significance.\")"
      ],
      "metadata": {
        "colab": {
          "base_uri": "https://localhost:8080/"
        },
        "id": "ibzcsqBuO36G",
        "outputId": "3cb2eb6d-4d3b-4653-c387-2d99e60c83ac"
      },
      "execution_count": null,
      "outputs": [
        {
          "output_type": "stream",
          "name": "stdout",
          "text": [
            "Further analysis could explore other features or perform hypothesis testing to determine statistical significance.\n"
          ]
        }
      ]
    },
    {
      "cell_type": "code",
      "source": [
        "# Group data by gender and calculate descriptive statistics for 'number_inpatient'\n",
        "descriptive_stats = df.groupby('gender')['number_inpatient'].agg(['mean', 'median', 'std'])\n",
        "\n",
        "# Print the results\n",
        "print(descriptive_stats)"
      ],
      "metadata": {
        "colab": {
          "base_uri": "https://localhost:8080/"
        },
        "id": "3WW-ZE5lPSqo",
        "outputId": "9f0d995a-840f-407b-935e-cc9b04a088fb"
      },
      "execution_count": null,
      "outputs": [
        {
          "output_type": "stream",
          "name": "stdout",
          "text": [
            "                     mean  median       std\n",
            "gender                                     \n",
            "Female           0.652683     0.0  1.297669\n",
            "Male             0.615705     0.0  1.220893\n",
            "Unknown/Invalid  0.000000     0.0  0.000000\n"
          ]
        }
      ]
    },
    {
      "cell_type": "code",
      "source": [],
      "metadata": {
        "id": "BFMC-bqMPivN"
      },
      "execution_count": null,
      "outputs": []
    },
    {
      "cell_type": "code",
      "source": [
        "Used a histogram with KDE (Kernel Density Estimation) to visualize the distribution of number_inpatient for Male and Female groups."
      ],
      "metadata": {
        "colab": {
          "base_uri": "https://localhost:8080/",
          "height": 106
        },
        "id": "28Af6L4qPXiD",
        "outputId": "76995d22-85ee-40e3-9476-066bf294efc9"
      },
      "execution_count": null,
      "outputs": [
        {
          "output_type": "error",
          "ename": "SyntaxError",
          "evalue": "invalid syntax (<ipython-input-82-b6b26bd63df1>, line 1)",
          "traceback": [
            "\u001b[0;36m  File \u001b[0;32m\"<ipython-input-82-b6b26bd63df1>\"\u001b[0;36m, line \u001b[0;32m1\u001b[0m\n\u001b[0;31m    Used a histogram with KDE (Kernel Density Estimation) to visualize the distribution of number_inpatient for Male and Female groups.\u001b[0m\n\u001b[0m         ^\u001b[0m\n\u001b[0;31mSyntaxError\u001b[0m\u001b[0;31m:\u001b[0m invalid syntax\n"
          ]
        }
      ]
    },
    {
      "cell_type": "code",
      "source": [],
      "metadata": {
        "id": "0ntkybhpPvZm"
      },
      "execution_count": null,
      "outputs": []
    }
  ]
}